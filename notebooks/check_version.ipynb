{
 "cells": [
  {
   "cell_type": "code",
   "execution_count": 1,
   "id": "0f1537d2-3d96-433d-9898-860b917a1fae",
   "metadata": {},
   "outputs": [
    {
     "name": "stdout",
     "output_type": "stream",
     "text": [
      "Python: 3.11.13 | packaged by conda-forge | (main, Jun  4 2025, 14:39:58) [MSC v.1943 64 bit (AMD64)]\n",
      "NumPy: 1.26.4\n",
      "Pandas: 2.3.1\n",
      "Matplotlib: 3.10.5\n",
      "SQLAlchemy: 2.0.32\n"
     ]
    }
   ],
   "source": [
    "import sys, numpy, pandas, matplotlib, sqlalchemy\n",
    "\n",
    "print(\"Python:\", sys.version)\n",
    "print(\"NumPy:\", numpy.__version__)\n",
    "print(\"Pandas:\", pandas.__version__)\n",
    "print(\"Matplotlib:\", matplotlib.__version__)\n",
    "print(\"SQLAlchemy:\", sqlalchemy.__version__)\n"
   ]
  },
  {
   "cell_type": "code",
   "execution_count": null,
   "id": "e0534173-fc16-45a6-b88b-4cdb6a1ed080",
   "metadata": {},
   "outputs": [],
   "source": []
  }
 ],
 "metadata": {
  "kernelspec": {
   "display_name": "Python 3 (ipykernel)",
   "language": "python",
   "name": "python3"
  },
  "language_info": {
   "codemirror_mode": {
    "name": "ipython",
    "version": 3
   },
   "file_extension": ".py",
   "mimetype": "text/x-python",
   "name": "python",
   "nbconvert_exporter": "python",
   "pygments_lexer": "ipython3",
   "version": "3.11.13"
  }
 },
 "nbformat": 4,
 "nbformat_minor": 5
}
