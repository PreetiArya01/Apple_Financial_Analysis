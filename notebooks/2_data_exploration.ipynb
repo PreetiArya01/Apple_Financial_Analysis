{
 "cells": [
  {
   "cell_type": "markdown",
   "id": "7ef5c9a9-73f0-498c-b8d5-ff28e623ff85",
   "metadata": {},
   "source": [
    "# Apple Financial Analysis Project\n",
    "\n",
    "## Objective\n",
    "The purpose of this project is to analyze **Apple Inc.’s financial performance** over the last 5 years using:\n",
    "- **Python & Jupyter Notebook** for data exploration\n",
    "- **MySQL** for structured data storage and queries\n",
    "- **Matplotlib** for data visualization\n",
    "- **Power BI** for interactive dashboards\n",
    "\n",
    "This project focuses on **company financials** (Income Statement, Balance Sheet, Cash Flow) instead of stock price movements.\n"
   ]
  },
  {
   "cell_type": "code",
   "execution_count": 2,
   "id": "0ef1ca46-7322-40eb-af3f-4589a928882c",
   "metadata": {},
   "outputs": [],
   "source": [
    "# import required libraries\n",
    "\n",
    "import numpy as np\n",
    "import pandas as pd\n",
    "import os\n",
    "import matplotlib.pyplot as plt\n",
    "from sqlalchemy import create_engine, URL\n"
   ]
  },
  {
   "cell_type": "markdown",
   "id": "fd5a2b9a-84d4-4518-ae31-26167d3d0c7e",
   "metadata": {},
   "source": [
    "**Required Libraries imported:**\n",
    "- `pandas` → data handling\n",
    "- `os` → file management\n",
    "- `matplotlib` → visualizations\n",
    "- `sqlalchemy` → connecting with MySQL\n"
   ]
  },
  {
   "cell_type": "markdown",
   "id": "440cdf64-bb8b-4627-9f1a-216e111de6e5",
   "metadata": {},
   "source": [
    "## Project Workflow\n",
    "\n",
    "**Data Collection & Storage**\n",
    "\n",
    "- Collected Apple’s financial statements (Income Statement, Balance Sheet, Cash Flow) in CSV format.\n",
    "- Organized raw and cleaned data into separate folders for better project management.\n",
    "\n",
    "**Data Cleaning & Formatting**\n",
    "\n",
    "- Standardized column names and reshaped data using pandas (melt, transpose).\n",
    "- Converted date columns into proper datetime format.\n",
    "- Saved cleaned files into a new folder for easy reusability.\n",
    "\n",
    "**Database Integration (MySQL + SQLAlchemy)**\n",
    "\n",
    "- Loaded cleaned datasets into MySQL database for structured querying.\n",
    "- Created separate .sql files for key financial metrics (Revenue, Net Income, Profit Margin, Debt-Equity Ratio, Cash Flow, ROE).\n",
    "- Queried the database from Python and converted results into DataFrames.\n",
    "\n",
    "**Data Analysis & Visualization (Python)**\n",
    "\n",
    "#### Used pandas & matplotlib to analyze financial KPIs:\n",
    "\n",
    "- Revenue & Net Income Trends\n",
    "- Gross Profit Margin & Profit Margin\n",
    "- Debt-to-Equity Ratio\n",
    "- Cash Flow Analysis (Operating, Investing, Financing, Free Cash Flow)\n",
    "- Return on Equity (ROE)\n",
    "\n",
    "Cleaned duplicate values where necessary before visualization."
   ]
  },
  {
   "cell_type": "code",
   "execution_count": 19,
   "id": "93bfe25f-7f61-4f7a-848c-2b54dda107c7",
   "metadata": {},
   "outputs": [],
   "source": [
    "# path of data folder\n",
    "\n",
    "data_path = r\"C:\\Users\\DELL\\OneDrive\\Documents\\Apple_analysis\\data\\raw\"\n",
    "\n",
    "#define a function to extract files\n",
    "def load_file(filename):\n",
    "    return pd.read_csv(os.path.join(data_path, filename))\n",
    "\n",
    "income_df  = load_file(\"apple_income.csv\")\n",
    "balance_df = load_file(\"apple_balancesheet.csv\")\n",
    "cashflow_df = load_file(\"apple_cashflow.csv\")\n"
   ]
  },
  {
   "cell_type": "markdown",
   "id": "b5d9e85e-f2a3-458e-a775-b5f9220d132d",
   "metadata": {},
   "source": [
    "#### I have loaded Apple’s **Income Statement, Balance Sheet, and Cash Flow** CSV files into Pandas DataFrames."
   ]
  },
  {
   "cell_type": "code",
   "execution_count": 49,
   "id": "ebb71ad7-7990-4b08-ad3a-11faea89b211",
   "metadata": {},
   "outputs": [],
   "source": [
    "#change the dataframe shape to analyze the data accurately\n",
    "def clean_format_file(files):\n",
    "    #rename unnnamed to metric\n",
    "    files.rename(columns={\"Unnamed: 0\" : \"Metric\"}, inplace=True)\n",
    "    \n",
    "#return dataframe with cleaned format\n",
    "    return files.melt(id_vars = [\"Metric\"], var_name = \"Year\", value_name = \"Value\")\n",
    "\n",
    "income = clean_format_file(income_df)\n",
    "balance_sheet = clean_format_file(balance_df)\n",
    "cashflow = clean_format_file(cashflow_df)"
   ]
  },
  {
   "cell_type": "code",
   "execution_count": null,
   "id": "e0b63986-9d4d-45ad-92da-b33a40ebd1c0",
   "metadata": {},
   "outputs": [],
   "source": [
    "#return first 5 rows\n",
    "income.head()"
   ]
  },
  {
   "cell_type": "code",
   "execution_count": null,
   "id": "e1124a0d-c13f-4889-9428-5e9e0642e6c7",
   "metadata": {},
   "outputs": [],
   "source": [
    "#information about rows, coumns,null-values\n",
    "income.info()"
   ]
  },
  {
   "cell_type": "code",
   "execution_count": null,
   "id": "815e370c-64a3-438e-94c2-93f276ff4626",
   "metadata": {},
   "outputs": [],
   "source": [
    "#return duplicates if any presents\n",
    "income[income.duplicated()]"
   ]
  },
  {
   "cell_type": "code",
   "execution_count": null,
   "id": "4761a9f2-3070-45d9-a2aa-ac8eb171b7a1",
   "metadata": {},
   "outputs": [],
   "source": [
    "#return statistical measures\n",
    "income.describe()"
   ]
  },
  {
   "cell_type": "code",
   "execution_count": null,
   "id": "a438d7e4-c34e-4c3f-9f96-f1d4ae5afd99",
   "metadata": {},
   "outputs": [],
   "source": [
    "income.dtypes\n",
    "\n",
    "#change year column data type to datetime format\n",
    "income[\"Year\"] = pd.to_datetime(income[\"Year\"])"
   ]
  },
  {
   "cell_type": "code",
   "execution_count": null,
   "id": "66cf9763-fa68-4c79-8719-d0376232bcdb",
   "metadata": {},
   "outputs": [],
   "source": [
    "#return first 5 rows\n",
    "balance_sheet.head()"
   ]
  },
  {
   "cell_type": "code",
   "execution_count": null,
   "id": "61fa549f-bc82-4d8f-b8e6-f5ced93b570c",
   "metadata": {},
   "outputs": [],
   "source": [
    "#information about rows, coumns,null-values\n",
    "balance_sheet.info()"
   ]
  },
  {
   "cell_type": "code",
   "execution_count": null,
   "id": "0c86cc47-6451-4f2f-be4c-0530beb163f2",
   "metadata": {},
   "outputs": [],
   "source": [
    "#return duplicates if any presents\n",
    "balance_sheet[balance_sheet.duplicated()]"
   ]
  },
  {
   "cell_type": "code",
   "execution_count": null,
   "id": "dee213bb-c76e-4af3-b0f2-3fe76f6310aa",
   "metadata": {},
   "outputs": [],
   "source": [
    "#return statistical measures\n",
    "balance_sheet.describe()"
   ]
  },
  {
   "cell_type": "code",
   "execution_count": 68,
   "id": "0c09bd5d-1e7b-4373-a595-c93ab638e83f",
   "metadata": {},
   "outputs": [],
   "source": [
    "#change year column data type to datetime format\n",
    "balance_sheet[\"Year\"] = pd.to_datetime(balance_sheet[\"Year\"])"
   ]
  },
  {
   "cell_type": "code",
   "execution_count": null,
   "id": "ac118a84-709e-49f4-9987-a0eb7c9becd8",
   "metadata": {},
   "outputs": [],
   "source": [
    "#return first 5 rows\n",
    "cashflow.head()"
   ]
  },
  {
   "cell_type": "code",
   "execution_count": null,
   "id": "fa3726d5-9749-4845-bcbf-b41ea5d88a2a",
   "metadata": {},
   "outputs": [],
   "source": [
    "#information about rows, coumns,null-values\n",
    "cashflow.info()"
   ]
  },
  {
   "cell_type": "code",
   "execution_count": null,
   "id": "9d39195d-4b59-4aa9-9ad0-6f859fb7148c",
   "metadata": {},
   "outputs": [],
   "source": [
    "#return duplicates if any presents\n",
    "cashflow[cashflow.duplicated()]"
   ]
  },
  {
   "cell_type": "code",
   "execution_count": null,
   "id": "1746f612-fad6-4df0-8e3f-be42135fcf9e",
   "metadata": {},
   "outputs": [],
   "source": [
    "#return statistical measures\n",
    "cashflow.describe()"
   ]
  },
  {
   "cell_type": "code",
   "execution_count": 74,
   "id": "5fffd7fa-740f-4ce1-85cf-91972b669b92",
   "metadata": {},
   "outputs": [],
   "source": [
    "#change year column data type to datetime format\n",
    "cashflow[\"Year\"] = pd.to_datetime(cashflow[\"Year\"])"
   ]
  },
  {
   "cell_type": "markdown",
   "id": "774415a7-e800-4f6d-a91a-875be92f31c4",
   "metadata": {},
   "source": [
    "#### I have inspected data types, missing values, and summary statistics to understand the structure of our financial data.\n"
   ]
  },
  {
   "cell_type": "code",
   "execution_count": 71,
   "id": "6b5465de-4f03-43bf-ba93-908d9700917b",
   "metadata": {},
   "outputs": [
    {
     "name": "stdout",
     "output_type": "stream",
     "text": [
      "Cleaned csv files uploaded in folder\n"
     ]
    }
   ],
   "source": [
    "data_path = r\"C:\\Users\\DELL\\OneDrive\\Documents\\Apple_analysis\\data\\processed\"\n",
    "\n",
    "income.to_csv(os.path.join(data_path, \"income.csv\"), index = False)\n",
    "balance_sheet.to_csv(os.path.join(data_path, \"balance_sheet.csv\"), index = False)\n",
    "cashflow.to_csv(os.path.join(data_path, \"cashflow.csv\"), index = False)\n",
    "\n",
    "print(\"Cleaned csv files uploaded in folder\")"
   ]
  },
  {
   "cell_type": "markdown",
   "id": "0dc0eec0-30ad-45c4-849a-a5980977c576",
   "metadata": {},
   "source": [
    "#### Stored all cleaned and formated CSV files into a separate folder for better organization and manageability."
   ]
  },
  {
   "cell_type": "code",
   "execution_count": null,
   "id": "07414e1b-0600-42c5-9066-35b03314202b",
   "metadata": {},
   "outputs": [],
   "source": []
  }
 ],
 "metadata": {
  "kernelspec": {
   "display_name": "Python [conda env:apple_env]",
   "language": "python",
   "name": "conda-env-apple_env-py"
  },
  "language_info": {
   "codemirror_mode": {
    "name": "ipython",
    "version": 3
   },
   "file_extension": ".py",
   "mimetype": "text/x-python",
   "name": "python",
   "nbconvert_exporter": "python",
   "pygments_lexer": "ipython3",
   "version": "3.11.13"
  }
 },
 "nbformat": 4,
 "nbformat_minor": 5
}
