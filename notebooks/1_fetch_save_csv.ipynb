{
 "cells": [
  {
   "cell_type": "code",
   "execution_count": null,
   "id": "556e6dbc-deac-4d2d-b679-09ac17c3bd11",
   "metadata": {},
   "outputs": [],
   "source": [
    "!pip install yfinance"
   ]
  },
  {
   "cell_type": "code",
   "execution_count": 4,
   "id": "24c9c41a-c214-4989-a6e2-86207021ab93",
   "metadata": {},
   "outputs": [],
   "source": [
    "# import required libraries\n",
    "\n",
    "import pandas as pd\n",
    "import yfinance as yf\n",
    "import os\n"
   ]
  },
  {
   "cell_type": "code",
   "execution_count": 5,
   "id": "e0def19a-7df1-4f9a-8a75-387b4feddfd9",
   "metadata": {},
   "outputs": [
    {
     "name": "stdout",
     "output_type": "stream",
     "text": [
      "Apple financial data saved\n"
     ]
    }
   ],
   "source": [
    "# path of data folder\n",
    "data_path = os.path.join(\"..\", \"data\")\n",
    "\n",
    "# Make sure it exists\n",
    "os.makedirs(data_path, exist_ok=True)\n",
    "\n",
    "# load apple ticker\n",
    "aapl = yf.Ticker(\"AAPL\")\n",
    "\n",
    "# company financials\n",
    "income = aapl.financials\n",
    "balance = aapl.balance_sheet\n",
    "cashflow = aapl.cash_flow\n",
    "\n",
    "#save to csv\n",
    "income.to_csv(os.path.join(data_path, \"apple_income.csv\"))\n",
    "balance.to_csv(os.path.join(data_path, \"apple_balancesheet.csv\"))\n",
    "cashflow.to_csv(os.path.join(data_path, \"apple_cashflow.csv\"))\n",
    "\n",
    "\n",
    "print(\"Apple financial data saved\")"
   ]
  },
  {
   "cell_type": "code",
   "execution_count": null,
   "id": "13a91247-bf8a-4956-80fb-9a6c0e427342",
   "metadata": {},
   "outputs": [],
   "source": []
  }
 ],
 "metadata": {
  "kernelspec": {
   "display_name": "Python [conda env:apple_env]",
   "language": "python",
   "name": "conda-env-apple_env-py"
  },
  "language_info": {
   "codemirror_mode": {
    "name": "ipython",
    "version": 3
   },
   "file_extension": ".py",
   "mimetype": "text/x-python",
   "name": "python",
   "nbconvert_exporter": "python",
   "pygments_lexer": "ipython3",
   "version": "3.11.13"
  }
 },
 "nbformat": 4,
 "nbformat_minor": 5
}
